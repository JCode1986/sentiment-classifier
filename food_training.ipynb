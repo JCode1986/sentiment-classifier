{
 "nbformat": 4,
 "nbformat_minor": 2,
 "metadata": {
  "language_info": {
   "name": "python",
   "codemirror_mode": {
    "name": "ipython",
    "version": 3
   },
   "version": "3.6.9"
  },
  "orig_nbformat": 2,
  "file_extension": ".py",
  "mimetype": "text/x-python",
  "name": "python",
  "npconvert_exporter": "python",
  "pygments_lexer": "ipython3",
  "version": 3
 },
 "cells": [
  {
   "cell_type": "markdown",
   "execution_count": null,
   "metadata": {},
   "outputs": [],
   "source": [
    "# Amazon Food Reviews"
   ]
  },
  {
   "cell_type": "code",
   "execution_count": 26,
   "metadata": {},
   "outputs": [],
   "source": [
    "import pandas as pd"
   ]
  },
  {
   "cell_type": "code",
   "execution_count": 27,
   "metadata": {},
   "outputs": [],
   "source": [
    "food_df = pd.read_csv('./small_reviews.csv')"
   ]
  },
  {
   "cell_type": "code",
   "execution_count": 31,
   "metadata": {},
   "outputs": [
    {
     "data": {
      "text/html": "<div>\n<style scoped>\n    .dataframe tbody tr th:only-of-type {\n        vertical-align: middle;\n    }\n\n    .dataframe tbody tr th {\n        vertical-align: top;\n    }\n\n    .dataframe thead th {\n        text-align: right;\n    }\n</style>\n<table border=\"1\" class=\"dataframe\">\n  <thead>\n    <tr style=\"text-align: right;\">\n      <th></th>\n      <th>Text</th>\n      <th>Score</th>\n    </tr>\n  </thead>\n  <tbody>\n    <tr>\n      <th>8582</th>\n      <td>As coffee in general, this Wolfgang variety wa...</td>\n      <td>1</td>\n    </tr>\n    <tr>\n      <th>5024</th>\n      <td>Looked like a good deal, so I ordered the grou...</td>\n      <td>1</td>\n    </tr>\n    <tr>\n      <th>2868</th>\n      <td>When I placed my order it was for Hartz Pigski...</td>\n      <td>1</td>\n    </tr>\n    <tr>\n      <th>5021</th>\n      <td>This product was a big disappointment.  The pi...</td>\n      <td>1</td>\n    </tr>\n    <tr>\n      <th>2870</th>\n      <td>I emailed customer service and asked if the tr...</td>\n      <td>1</td>\n    </tr>\n    <tr>\n      <th>...</th>\n      <td>...</td>\n      <td>...</td>\n    </tr>\n    <tr>\n      <th>4115</th>\n      <td>This thing works instantly. You plug in your m...</td>\n      <td>5</td>\n    </tr>\n    <tr>\n      <th>4114</th>\n      <td>This people is a must have especially to take ...</td>\n      <td>5</td>\n    </tr>\n    <tr>\n      <th>4113</th>\n      <td>I use this with my Audio Technica condensor. W...</td>\n      <td>5</td>\n    </tr>\n    <tr>\n      <th>4108</th>\n      <td>This Icicle performs flawlessly with very good...</td>\n      <td>5</td>\n    </tr>\n    <tr>\n      <th>9998</th>\n      <td>i love the fact that i can get this delieved t...</td>\n      <td>5</td>\n    </tr>\n  </tbody>\n</table>\n<p>9999 rows × 2 columns</p>\n</div>",
      "text/plain": "                                                   Text  Score\n8582  As coffee in general, this Wolfgang variety wa...      1\n5024  Looked like a good deal, so I ordered the grou...      1\n2868  When I placed my order it was for Hartz Pigski...      1\n5021  This product was a big disappointment.  The pi...      1\n2870  I emailed customer service and asked if the tr...      1\n...                                                 ...    ...\n4115  This thing works instantly. You plug in your m...      5\n4114  This people is a must have especially to take ...      5\n4113  I use this with my Audio Technica condensor. W...      5\n4108  This Icicle performs flawlessly with very good...      5\n9998  i love the fact that i can get this delieved t...      5\n\n[9999 rows x 2 columns]"
     },
     "execution_count": 31,
     "metadata": {},
     "output_type": "execute_result"
    }
   ],
   "source": [
    "food_score = food_df[['Text','Score']].sort_values(by='Score')\n",
    "food_score"
   ]
  },
  {
   "cell_type": "code",
   "execution_count": 32,
   "metadata": {},
   "outputs": [],
   "source": [
    "def create_sentiment(num):\n",
    "    if num <= 2:\n",
    "        return 23\n",
    "    if num == 3:\n",
    "        return 1\n",
    "    if num <= 5 and num > 3:\n",
    "        return 2"
   ]
  },
  {
   "cell_type": "code",
   "execution_count": 47,
   "metadata": {},
   "outputs": [
    {
     "data": {
      "text/html": "<div>\n<style scoped>\n    .dataframe tbody tr th:only-of-type {\n        vertical-align: middle;\n    }\n\n    .dataframe tbody tr th {\n        vertical-align: top;\n    }\n\n    .dataframe thead th {\n        text-align: right;\n    }\n</style>\n<table border=\"1\" class=\"dataframe\">\n  <thead>\n    <tr style=\"text-align: right;\">\n      <th></th>\n      <th>Text</th>\n      <th>Score</th>\n      <th>sentiment</th>\n    </tr>\n  </thead>\n  <tbody>\n    <tr>\n      <th>7162</th>\n      <td>I love these cups. My husband and I like commu...</td>\n      <td>5</td>\n      <td>0.0</td>\n    </tr>\n    <tr>\n      <th>4133</th>\n      <td>it is what is is... and it did the job that it...</td>\n      <td>3</td>\n      <td>0.0</td>\n    </tr>\n    <tr>\n      <th>2826</th>\n      <td>Pineapple is hands down my favorite flavor of ...</td>\n      <td>5</td>\n      <td>0.0</td>\n    </tr>\n    <tr>\n      <th>7070</th>\n      <td>Looking at all the disposable/reusable K-Cup d...</td>\n      <td>3</td>\n      <td>0.0</td>\n    </tr>\n    <tr>\n      <th>9438</th>\n      <td>love this Rodeo Drive it has a very drinkable ...</td>\n      <td>4</td>\n      <td>0.0</td>\n    </tr>\n  </tbody>\n</table>\n</div>",
      "text/plain": "                                                   Text  Score  sentiment\n7162  I love these cups. My husband and I like commu...      5        0.0\n4133  it is what is is... and it did the job that it...      3        0.0\n2826  Pineapple is hands down my favorite flavor of ...      5        0.0\n7070  Looking at all the disposable/reusable K-Cup d...      3        0.0\n9438  love this Rodeo Drive it has a very drinkable ...      4        0.0"
     },
     "execution_count": 47,
     "metadata": {},
     "output_type": "execute_result"
    }
   ],
   "source": [
    "food_score['sentiment'] = food_score['Score'].apply(create_sentiment)\n",
    "food_score.sample(5)"
   ]
  },
  {
   "cell_type": "code",
   "execution_count": null,
   "metadata": {},
   "outputs": [],
   "source": []
  }
 ]
}