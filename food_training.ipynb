{
 "nbformat": 4,
 "nbformat_minor": 2,
 "metadata": {
  "language_info": {
   "name": "python",
   "codemirror_mode": {
    "name": "ipython",
    "version": 3
   },
   "version": "3.6.9"
  },
  "orig_nbformat": 2,
  "file_extension": ".py",
  "mimetype": "text/x-python",
  "name": "python",
  "npconvert_exporter": "python",
  "pygments_lexer": "ipython3",
  "version": 3
 },
 "cells": [
  {
   "cell_type": "markdown",
   "execution_count": null,
   "metadata": {},
   "outputs": [],
   "source": [
    "# Amazon Food Reviews"
   ]
  },
  {
   "cell_type": "code",
   "execution_count": 1,
   "metadata": {},
   "outputs": [],
   "source": [
    "import pandas as pd\n",
    "import tensorflow as tf\n",
    "from tensorflow import keras\n",
    "import tensorflow.keras.preprocessing.text as tfkpt\n",
    "from tensorflow.keras.preprocessing.text import Tokenizer\n",
    "from tensorflow.keras.models import Sequential\n",
    "from tensorflow.keras.layers import Dense, Dropout, Activation\n",
    "import csv\n",
    "import json"
   ]
  },
  {
   "cell_type": "code",
   "execution_count": 2,
   "metadata": {},
   "outputs": [],
   "source": [
    "food_df = pd.read_csv('./small_reviews.csv')"
   ]
  },
  {
   "cell_type": "code",
   "execution_count": 3,
   "metadata": {},
   "outputs": [
    {
     "data": {
      "text/html": "<div>\n<style scoped>\n    .dataframe tbody tr th:only-of-type {\n        vertical-align: middle;\n    }\n\n    .dataframe tbody tr th {\n        vertical-align: top;\n    }\n\n    .dataframe thead th {\n        text-align: right;\n    }\n</style>\n<table border=\"1\" class=\"dataframe\">\n  <thead>\n    <tr style=\"text-align: right;\">\n      <th></th>\n      <th>Text</th>\n      <th>Score</th>\n    </tr>\n  </thead>\n  <tbody>\n    <tr>\n      <th>8582</th>\n      <td>As coffee in general, this Wolfgang variety wa...</td>\n      <td>1</td>\n    </tr>\n    <tr>\n      <th>5024</th>\n      <td>Looked like a good deal, so I ordered the grou...</td>\n      <td>1</td>\n    </tr>\n    <tr>\n      <th>2868</th>\n      <td>When I placed my order it was for Hartz Pigski...</td>\n      <td>1</td>\n    </tr>\n    <tr>\n      <th>5021</th>\n      <td>This product was a big disappointment.  The pi...</td>\n      <td>1</td>\n    </tr>\n    <tr>\n      <th>2870</th>\n      <td>I emailed customer service and asked if the tr...</td>\n      <td>1</td>\n    </tr>\n    <tr>\n      <th>...</th>\n      <td>...</td>\n      <td>...</td>\n    </tr>\n    <tr>\n      <th>4115</th>\n      <td>This thing works instantly. You plug in your m...</td>\n      <td>5</td>\n    </tr>\n    <tr>\n      <th>4114</th>\n      <td>This people is a must have especially to take ...</td>\n      <td>5</td>\n    </tr>\n    <tr>\n      <th>4113</th>\n      <td>I use this with my Audio Technica condensor. W...</td>\n      <td>5</td>\n    </tr>\n    <tr>\n      <th>4108</th>\n      <td>This Icicle performs flawlessly with very good...</td>\n      <td>5</td>\n    </tr>\n    <tr>\n      <th>9998</th>\n      <td>i love the fact that i can get this delieved t...</td>\n      <td>5</td>\n    </tr>\n  </tbody>\n</table>\n<p>9999 rows × 2 columns</p>\n</div>",
      "text/plain": "                                                   Text  Score\n8582  As coffee in general, this Wolfgang variety wa...      1\n5024  Looked like a good deal, so I ordered the grou...      1\n2868  When I placed my order it was for Hartz Pigski...      1\n5021  This product was a big disappointment.  The pi...      1\n2870  I emailed customer service and asked if the tr...      1\n...                                                 ...    ...\n4115  This thing works instantly. You plug in your m...      5\n4114  This people is a must have especially to take ...      5\n4113  I use this with my Audio Technica condensor. W...      5\n4108  This Icicle performs flawlessly with very good...      5\n9998  i love the fact that i can get this delieved t...      5\n\n[9999 rows x 2 columns]"
     },
     "execution_count": 3,
     "metadata": {},
     "output_type": "execute_result"
    }
   ],
   "source": [
    "food_score = food_df[['Text','Score']].sort_values(by='Score')\n",
    "food_score"
   ]
  },
  {
   "cell_type": "code",
   "execution_count": 4,
   "metadata": {},
   "outputs": [],
   "source": [
    "def create_sentiment(num):\n",
    "    if num <= 2:\n",
    "        return 0\n",
    "    if num == 3:\n",
    "        return 1\n",
    "    else:\n",
    "        return 2"
   ]
  },
  {
   "cell_type": "code",
   "execution_count": 5,
   "metadata": {},
   "outputs": [
    {
     "data": {
      "text/html": "<div>\n<style scoped>\n    .dataframe tbody tr th:only-of-type {\n        vertical-align: middle;\n    }\n\n    .dataframe tbody tr th {\n        vertical-align: top;\n    }\n\n    .dataframe thead th {\n        text-align: right;\n    }\n</style>\n<table border=\"1\" class=\"dataframe\">\n  <thead>\n    <tr style=\"text-align: right;\">\n      <th></th>\n      <th>Text</th>\n      <th>Score</th>\n      <th>sentiment</th>\n    </tr>\n  </thead>\n  <tbody>\n    <tr>\n      <th>9597</th>\n      <td>This is EXTREMELY better than Wilton!!!  Buy t...</td>\n      <td>5</td>\n      <td>2</td>\n    </tr>\n    <tr>\n      <th>235</th>\n      <td>The taste of these white cheddar flat breads i...</td>\n      <td>2</td>\n      <td>0</td>\n    </tr>\n    <tr>\n      <th>2454</th>\n      <td>O. N. E. Coconut water is delicious and refres...</td>\n      <td>5</td>\n      <td>2</td>\n    </tr>\n    <tr>\n      <th>449</th>\n      <td>These chips have the right amount of crunch an...</td>\n      <td>5</td>\n      <td>2</td>\n    </tr>\n    <tr>\n      <th>2732</th>\n      <td>Popcorn has grear color (white)  But taste is ...</td>\n      <td>2</td>\n      <td>0</td>\n    </tr>\n  </tbody>\n</table>\n</div>",
      "text/plain": "                                                   Text  Score  sentiment\n9597  This is EXTREMELY better than Wilton!!!  Buy t...      5          2\n235   The taste of these white cheddar flat breads i...      2          0\n2454  O. N. E. Coconut water is delicious and refres...      5          2\n449   These chips have the right amount of crunch an...      5          2\n2732  Popcorn has grear color (white)  But taste is ...      2          0"
     },
     "execution_count": 5,
     "metadata": {},
     "output_type": "execute_result"
    }
   ],
   "source": [
    "food_score['sentiment'] = food_score['Score'].apply(create_sentiment)\n",
    "food_score.sample(5)"
   ]
  },
  {
   "cell_type": "code",
   "execution_count": 6,
   "metadata": {},
   "outputs": [],
   "source": [
    "def clean_commas(str):\n",
    "    return str.replace(',', ';')"
   ]
  },
  {
   "cell_type": "code",
   "execution_count": 7,
   "metadata": {},
   "outputs": [
    {
     "data": {
      "text/html": "<div>\n<style scoped>\n    .dataframe tbody tr th:only-of-type {\n        vertical-align: middle;\n    }\n\n    .dataframe tbody tr th {\n        vertical-align: top;\n    }\n\n    .dataframe thead th {\n        text-align: right;\n    }\n</style>\n<table border=\"1\" class=\"dataframe\">\n  <thead>\n    <tr style=\"text-align: right;\">\n      <th></th>\n      <th>Text</th>\n      <th>Score</th>\n      <th>sentiment</th>\n    </tr>\n  </thead>\n  <tbody>\n    <tr>\n      <th>5755</th>\n      <td>I got these 2 weeks ago; for the price i wasnt...</td>\n      <td>5</td>\n      <td>2</td>\n    </tr>\n    <tr>\n      <th>7072</th>\n      <td>After a lot of trial and error (with just wate...</td>\n      <td>5</td>\n      <td>2</td>\n    </tr>\n    <tr>\n      <th>7616</th>\n      <td>I ordered this and several other plants from t...</td>\n      <td>5</td>\n      <td>2</td>\n    </tr>\n    <tr>\n      <th>6486</th>\n      <td>very tasty and the perfect size snack.  Reliab...</td>\n      <td>5</td>\n      <td>2</td>\n    </tr>\n    <tr>\n      <th>8897</th>\n      <td>t may be expresso grind; but if you are expect...</td>\n      <td>2</td>\n      <td>0</td>\n    </tr>\n  </tbody>\n</table>\n</div>",
      "text/plain": "                                                   Text  Score  sentiment\n5755  I got these 2 weeks ago; for the price i wasnt...      5          2\n7072  After a lot of trial and error (with just wate...      5          2\n7616  I ordered this and several other plants from t...      5          2\n6486  very tasty and the perfect size snack.  Reliab...      5          2\n8897  t may be expresso grind; but if you are expect...      2          0"
     },
     "execution_count": 7,
     "metadata": {},
     "output_type": "execute_result"
    }
   ],
   "source": [
    "food_score['Text'] = food_score['Text'].apply(clean_commas)\n",
    "food_score.sample(5)"
   ]
  },
  {
   "cell_type": "code",
   "execution_count": 8,
   "metadata": {},
   "outputs": [
    {
     "name": "stdout",
     "output_type": "stream",
     "text": "Num GPU's Available:  0\n"
    }
   ],
   "source": [
    "print(\"Num GPU's Available: \", len(tf.config.experimental.list_physical_devices('GPU')))"
   ]
  },
  {
   "cell_type": "code",
   "execution_count": 9,
   "metadata": {},
   "outputs": [
    {
     "data": {
      "text/html": "<div>\n<style scoped>\n    .dataframe tbody tr th:only-of-type {\n        vertical-align: middle;\n    }\n\n    .dataframe tbody tr th {\n        vertical-align: top;\n    }\n\n    .dataframe thead th {\n        text-align: right;\n    }\n</style>\n<table border=\"1\" class=\"dataframe\">\n  <thead>\n    <tr style=\"text-align: right;\">\n      <th></th>\n      <th>Score</th>\n      <th>Text</th>\n    </tr>\n  </thead>\n  <tbody>\n    <tr>\n      <th>9960</th>\n      <td>5</td>\n      <td>I add these Chia seeds to my Scottish oatmeal....</td>\n    </tr>\n    <tr>\n      <th>5832</th>\n      <td>5</td>\n      <td>Harney &amp; Sons' Dragon Pearl Jasmine tea is one...</td>\n    </tr>\n    <tr>\n      <th>6344</th>\n      <td>1</td>\n      <td>I'm really disappointed with the changes in qu...</td>\n    </tr>\n    <tr>\n      <th>2881</th>\n      <td>5</td>\n      <td>one of the best choices so far.  If you like b...</td>\n    </tr>\n    <tr>\n      <th>6425</th>\n      <td>5</td>\n      <td>My title was my reaction when I first opened t...</td>\n    </tr>\n  </tbody>\n</table>\n</div>",
      "text/plain": "      Score                                               Text\n9960      5  I add these Chia seeds to my Scottish oatmeal....\n5832      5  Harney & Sons' Dragon Pearl Jasmine tea is one...\n6344      1  I'm really disappointed with the changes in qu...\n2881      5  one of the best choices so far.  If you like b...\n6425      5  My title was my reaction when I first opened t..."
     },
     "execution_count": 9,
     "metadata": {},
     "output_type": "execute_result"
    }
   ],
   "source": [
    "text_df = pd.read_csv('./small_reviews.csv', encoding='latin-1')\n",
    "text_training_df = text_df[['Score', 'Text']].dropna()\n",
    "text_training_df.sample(5)"
   ]
  },
  {
   "cell_type": "code",
   "execution_count": 10,
   "metadata": {},
   "outputs": [
    {
     "name": "stdout",
     "output_type": "stream",
     "text": "0       5\n1       1\n2       4\n3       2\n4       5\n       ..\n9994    5\n9995    1\n9996    5\n9997    5\n9998    5\nName: Score, Length: 9999, dtype: int64\n"
    }
   ],
   "source": [
    "text_y = text_training_df.Score\n",
    "print(text_y)"
   ]
  },
  {
   "cell_type": "code",
   "execution_count": 11,
   "metadata": {},
   "outputs": [
    {
     "name": "stdout",
     "output_type": "stream",
     "text": "0       I have bought several of the Vitality canned d...\n1       Product arrived labeled as Jumbo Salted Peanut...\n2       This is a confection that has been around a fe...\n3       If you are looking for the secret ingredient i...\n4       Great taffy at a great price.  There was a wid...\n                              ...                        \n9994    I switched from Similac Advanced to Organic wh...\n9995    we switched from the advance similac to the or...\n9996    Like the bad reviews say, the organic formula ...\n9997    I wanted to solely breastfeed but was unable t...\n9998    i love the fact that i can get this delieved t...\nName: Text, Length: 9999, dtype: object\n"
    }
   ],
   "source": [
    "text_x = text_training_df.Text\n",
    "print(text_x)"
   ]
  },
  {
   "cell_type": "code",
   "execution_count": 12,
   "metadata": {},
   "outputs": [
    {
     "data": {
      "text/html": "<div>\n<style scoped>\n    .dataframe tbody tr th:only-of-type {\n        vertical-align: middle;\n    }\n\n    .dataframe tbody tr th {\n        vertical-align: top;\n    }\n\n    .dataframe thead th {\n        text-align: right;\n    }\n</style>\n<table border=\"1\" class=\"dataframe\">\n  <thead>\n    <tr style=\"text-align: right;\">\n      <th></th>\n      <th>Score</th>\n    </tr>\n  </thead>\n  <tbody>\n    <tr>\n      <th>count</th>\n      <td>9999.000000</td>\n    </tr>\n    <tr>\n      <th>mean</th>\n      <td>4.134513</td>\n    </tr>\n    <tr>\n      <th>std</th>\n      <td>1.327238</td>\n    </tr>\n    <tr>\n      <th>min</th>\n      <td>1.000000</td>\n    </tr>\n    <tr>\n      <th>25%</th>\n      <td>4.000000</td>\n    </tr>\n    <tr>\n      <th>50%</th>\n      <td>5.000000</td>\n    </tr>\n    <tr>\n      <th>75%</th>\n      <td>5.000000</td>\n    </tr>\n    <tr>\n      <th>max</th>\n      <td>5.000000</td>\n    </tr>\n  </tbody>\n</table>\n</div>",
      "text/plain": "             Score\ncount  9999.000000\nmean      4.134513\nstd       1.327238\nmin       1.000000\n25%       4.000000\n50%       5.000000\n75%       5.000000\nmax       5.000000"
     },
     "execution_count": 12,
     "metadata": {},
     "output_type": "execute_result"
    }
   ],
   "source": [
    "text_training_df.describe()"
   ]
  },
  {
   "cell_type": "code",
   "execution_count": 13,
   "metadata": {},
   "outputs": [],
   "source": [
    "tokenizer = Tokenizer()\n",
    "tokenizer.fit_on_texts(text_x)"
   ]
  },
  {
   "cell_type": "code",
   "execution_count": 14,
   "metadata": {},
   "outputs": [
    {
     "data": {
      "text/plain": "19,\n  426,\n  211,\n  6,\n  113,\n  4,\n  37,\n  1327,\n  649,\n  464],\n [2,\n  1067,\n  60,\n  37,\n  324,\n  67,\n  3957,\n  3,\n  411,\n  5,\n  91,\n  6,\n  2,\n  20,\n  1649,\n  67,\n  1,\n  33,\n  15,\n  6,\n  1014,\n  58,\n  5,\n  31,\n  4,\n  186,\n  87,\n  55,\n  2,\n  3941,\n  94,\n  275,\n  3473,\n  139,\n  1,\n  178,\n  154,\n  3,\n  734,\n  351,\n  6,\n  127,\n  81,\n  70,\n  1679,\n  1,\n  2851],\n [126,\n  9,\n  11,\n  13,\n  2119,\n  11,\n  67,\n  110,\n  201,\n  121,\n  53,\n  2084,\n  5,\n  31,\n  67,\n  163,\n  121,\n  2059,\n  49,\n  9,\n  64,\n  141,\n  121,\n  20,\n  67,\n  751,\n  618,\n  103,\n  135,\n  3958,\n  7,\n  351,\n  13,\n  64,\n  5196,\n  2,\n  126,\n  331,\n  1,\n  64,\n  26,\n  3659,\n  6437,\n  66],\n [2,\n  106,\n  229,\n  3957,\n  64,\n  12,\n  4,\n  253,\n  1170,\n  3,\n  59,\n  388,\n  6,\n  26,\n  2,\n  443,\n  224,\n  12,\n  319,\n  310,\n  3,\n  575,\n  11,\n  6,\n  12,\n  4,\n  3372,\n  1029,\n  103,\n  317,\n  613,\n  7,\n  8933,\n  2,\n  810,\n  1,\n  1170,\n  3,\n  1291,\n  85,\n  23,\n  122,\n  5,\n  86,\n  1,\n  64,\n  2,\n  20,\n  771,\n  8,\n  20,\n  8932,\n  3957,\n  1706,\n  2,\n  620,\n  575,\n  3,\n  115,\n  6,\n  38,\n  62,\n  257,\n  22,\n  2,\n  20,\n  433,\n  6,\n  2,\n  74,\n  670,\n  1,\n  3957,\n  3394,\n  2,\n  216,\n  282,\n  139,\n  4,\n  134,\n  5,\n  91,\n  2,\n  20,\n  39,\n  3227,\n  6,\n  190,\n  33,\n  25,\n  1,\n  1264,\n  8934,\n  2,\n  20,\n  881,\n  6,\n  20,\n  47,\n  25,\n  370,\n  652,\n  88,\n  2,\n  907,\n  16,\n  4,\n  39,\n  562,\n  8934,\n  5556,\n  6,\n  74,\n  190,\n  18,\n  1,\n  3119,\n  556,\n  666,\n  14,\n  19,\n  68,\n  96,\n  4196,\n  1,\n  3957,\n  2579,\n  10,\n  10,\n  99,\n  167,\n  49,\n  294,\n  3957,\n  64,\n  113,\n  16,\n  1,\n  2579,\n  26,\n  2,\n  70,\n  157,\n  36,\n  1,\n  3394,\n  21,\n  47,\n  25,\n  1,\n  294,\n  248,\n  32,\n  17,\n  552,\n  522,\n  2,\n  342,\n  82,\n  1,\n  3394,\n  107],\n [37,\n  291,\n  64,\n  2,\n  18,\n  95,\n  224,\n  11,\n  4,\n  29,\n  3957,\n  64,\n  1638,\n  618,\n  2,\n  51,\n  31,\n  433,\n  9,\n  40,\n  107,\n  10,\n  549,\n  8935,\n  1133],\n [2,\n  144,\n  17,\n  568,\n  11,\n  9,\n  40,\n  38,\n  41,\n  2,\n  216,\n  6,\n  20,\n  1,\n  192,\n  64,\n  13,\n  5518,\n  3,\n  2,\n  72,\n  5,\n  101,\n  50,\n  45,\n  76,\n  12,\n  12092,\n  1425,\n  2,\n  115,\n  58,\n  1,\n  64,\n  45,\n  72,\n  5,\n  101,\n  275,\n  302,\n  46,\n  1,\n  2579,\n  7,\n  4,\n  863,\n  503,\n  7,\n  1654],\n [2,\n  283,\n  9,\n  77,\n  2,\n  459,\n  14,\n  6,\n  20,\n  4,\n  209,\n  3557,\n  11,\n  6438,\n  5735,\n  163,\n  67,\n  17,\n  6,\n  144,\n  404,\n  11,\n  13,\n  6438,\n  3,\n  6,\n  146,\n  939,\n  2782,\n  4,\n  1596,\n  3677,\n  7,\n  729,\n  211,\n  9,\n  200,\n  1363,\n  331,\n  7,\n  263,\n  4205,\n  3,\n  2,\n  425,\n  6,\n  5,\n  331,\n  4366,\n  4366,\n  200],\n [27,\n  21,\n  29,\n  1742,\n  360,\n  38,\n  4,\n  29,\n  84,\n  36,\n  19,\n  430,\n  1,\n  3044,\n  334,\n  88,\n  43,\n  31,\n  219,\n  5,\n  90,\n  10,\n  10,\n  35,\n  248,\n  5,\n  218,\n  12,\n  696,\n  198,\n  8,\n  1,\n  1484,\n  32,\n  75,\n  96,\n  836,\n  11,\n  1677,\n  36,\n  19,\n  139,\n  27,\n  12,\n  3759,\n  3,\n  1,\n  842,\n  19,\n  1359,\n  48,\n  4,\n  4158,\n  72,\n  96,\n  836,\n  6,\n  278,\n  31,\n  4,\n  4206,\n  5,\n  1813,\n  1,\n  3516,\n  246,\n  166,\n  1,\n  360,\n  657,\n  272,\n  2150,\n  24,\n  19,\n  141,\n  338,\n  894,\n  12,\n  286,\n  3,\n  3044,\n  27,\n  360,\n  278,\n  4483,\n  47,\n  2532,\n  55,\n  1,\n  2013,\n  334,\n  97,\n  36,\n  3402,\n  1007,\n  4122,\n  10,\n  10,\n  62,\n  199,\n  461,\n  5,\n  6439,\n  72,\n  96,\n  2460,\n  11,\n  1,\n  61,\n  206,\n  23,\n  945,\n  26,\n  44,\n  4,\n  7135,\n  11,\n  1,\n  8597,\n  94,\n  3110,\n  14,\n  62,\n  342,\n  1186,\n  200,\n  14,\n  48,\n  3235,\n  15,\n  23,\n  322,\n  1186,\n  58,\n  1,\n  2655,\n  726,\n  106,\n  3,\n  1,\n  72,\n  96,\n  836,\n  24,\n  1,\n  357,\n  278,\n  17,\n  31,\n  85,\n  19,\n  53,\n  2431,\n  36,\n  19,\n  49,\n  4,\n  551],\n [2,\n  54,\n  5197,\n  1890,\n  15,\n  53,\n  427,\n  1019,\n  1,\n  377,\n  346,\n  14,\n  156,\n  2130,\n  815,\n  16,\n  6,\n  26,\n  415,\n  5,\n  91,\n  356,\n  13,\n  244,\n  3,\n  16,\n  9,\n  40,\n  2,\n  68,\n  627,\n  85,\n  2,\n  151,\n  120,\n  237,\n  5197,\n  1890,\n  709,\n  722,\n  7,\n  208,\n  1092,\n  1017,\n  3,\n  499,\n  346,\n  3,\n  44,\n  39,\n  120,\n  190,\n  18,\n  5,\n  169,\n  100,\n  1143,\n  38,\n  41,\n  37,\n  40,\n  51,\n  245,\n  107],\n [2,\n  283,\n  9,\n  11,\n  4,\n  779,\n  137,\n  211,\n  5,\n  762,\n  63,\n  5,\n  90,\n  58,\n  14,\n  2,\n  983,\n  130,\n  408,\n  47,\n  55,\n  85,\n  2,\n  288,\n  31,\n  1667,\n  2125,\n  11,\n  178,\n  419,\n  8,\n  6440,\n  5198,\n  104,\n  14,\n  2,\n  157,\n  14,\n  2,\n  43,\n  245,\n  35,\n  43,\n  11,\n  321,\n  140,\n  5199,\n  104,\n  22,\n  222,\n  22,\n  1,\n  357,\n  693,\n  9,\n  155,\n  7,\n  5197,\n  1544,\n  8,\n  254,\n  1,\n  659,\n  5197,\n  1005,\n  13,\n  779,\n  113,\n  202,\n  9,\n  1544,\n  20,\n  22,\n  29,\n  22,\n  1,\n  384,\n  12,\n  1,\n  1234,\n  1170,\n  2,\n  53,\n  132,\n  1,\n  1544,\n  15,\n  17,\n  1,\n  84],\n [75,\n  1544,\n  2,\n  18,\n  80,\n  26,\n  168,\n  5,\n  72,\n  34,\n  3880,\n  19,\n  519,\n  169,\n  1092,\n  1544,\n  3,\n  4,\n  1846,\n  7,\n  267,\n  143,\n  513,\n  3,\n  237,\n  2,\n  89,\n  24,\n  510,\n  1899,\n  3,\n  80,\n  202,\n  1,\n  306,\n  267,\n  143,\n  341,\n  7,\n  1,\n  289,\n  332,\n  6,\n  414,\n  11,\n  1,\n  5197,\n  1544,\n  417,\n  36,\n  19,\n  169,\n  4,\n  4807,\n  1369,\n  7,\n  585,\n  599,\n  413,\n  15,\n  1,\n  1468,\n  235,\n  3,\n  556,\n  21,\n  470,\n  3,\n  232,\n  1,\n  289,\n  332,\n  267,\n  143,\n  5,\n  895,\n  6,\n  58],\n [3558,\n  2,\n  53,\n  54,\n  27,\n  318,\n  936,\n  11,\n  1,\n  108,\n  542,\n  12,\n  173,\n  6,\n  33,\n  3175,\n  12093,\n  355,\n  97,\n  4,\n  189,\n  194,\n  1576,\n  4,\n  861,\n  861,\n  1545,\n  73,\n  293,\n  1545,\n  23,\n  1252,\n  6,\n  22,\n  599,\n  413,\n  318,\n  88,\n  8,\n  340,\n  2,\n  126,\n  30,\n  141,\n  435,\n  501,\n  49,\n  599,\n  413,\n  108,\n  318,\n  50,\n  2,\n  34,\n  411,\n  817,\n  599,\n  413,\n  318,\n  195,\n  50,\n  2,\n  361,\n  30,\n  2,\n  115,\n  58,\n  23,\n  76,\n  1,\n  108,\n  599,\n  413,\n  384,\n  15,\n  2,\n  216,\n  859,\n  374,\n  91,\n  30,\n  3,\n  3558,\n  2,\n  264,\n  1580,\n  66,\n  46,\n  1,\n  33,\n  861,\n  861,\n  12094,\n  3175,\n  33,\n  92,\n  17,\n  82,\n  36,\n  23,\n  49,\n  4,\n  1588,\n  166,\n  1,\n  363,\n  2,\n  53,\n  1294,\n  6,\n  4,\n  1588,\n  341,\n  7,\n  140,\n  741],\n [9,\n  1161,\n  111,\n  8,\n  254,\n  936,\n  70,\n  72,\n  105,\n  373,\n  810,\n  11,\n  72,\n  143,\n  341,\n  3,\n  6,\n  173,\n  6,\n  299,\n  87],\n [94,\n  17,\n  46,\n  1,\n  2017,\n  15,\n  681,\n  12,\n  12095,\n  373,\n  581,\n  45,\n  68,\n  4,\n  2894,\n  5736,\n  1,\n  1161,\n  111,\n  2,\n  89,\n  3927,\n  5737,\n  1474,\n  1161,\n  8,\n  1833,\n  12096,\n  99,\n  80,\n  391,\n  4765,\n  155,\n  7410,\n  12097,\n  5738,\n  15,\n  9,\n  8,\n  1,\n  75,\n  96,\n  222,\n  2,\n  2089,\n  5,\n  111,\n  140,\n  110,\n  105,\n  140,\n  110,\n  143,\n  110,\n  929,\n  2033,\n  1928,\n  3403,\n  3,\n  6,\n  20,\n  4207,\n  24,\n  13,\n  563,\n  447,\n  755,\n  5739,\n  25,\n  556,\n  8936,\n  1178,\n  16,\n  4,\n  203,\n  448,\n  7,\n  12098,\n  4484,\n  982,\n  44,\n  520,\n  168,\n  5,\n  86,\n  3,\n  826,\n  3010,\n  12099,\n  5740,\n  2,\n  1067,\n  19,\n  43,\n  220,\n  6,\n  24,\n  840,\n  1092,\n  3,\n  295,\n  86,\n  1508,\n  3,\n  169,\n  11,\n  909,\n  5737,\n  155,\n  22,\n  1,\n  570,\n  483,\n  8,\n  4,\n  8937,\n  1489,\n  1912],\n [404,\n  772,\n  404,\n  87,\n  97,\n  2261,\n  6441,\n  377,\n  1161,\n  476,\n  674,\n  4208,\n  11,\n  19,\n  19,\n  92,\n  404,\n  15,\n  111,\n  6,\n  16,\n  105,\n  750,\n  63,\n  4,\n  1303,\n  32,\n  145,\n  2,\n  271,\n  132,\n  9,\n  1161,\n  111,\n  6,\n  51,\n  17,\n  3559],\n [2,\n  18,\n  122,\n  5737,\n  1161,\n  11,\n  4,\n  1026,\n  7,\n  201,\n  6,\n  8,\n  39,\n  168,\n  5,\n  86,\n  3,\n  146,\n  37,\n  74,\n  603,\n  39,\n  93,\n  127,\n  4209,\n  840,\n  1929,\n  486,\n  91,\n  6],\n [197,\n  37,\n  5,\n  31,\n  406,\n  5,\n  68,\n  102,\n  9,\n  131,\n  197,\n  17,\n  29,\n  5,\n  116,\n  15,\n  36,\n  19,\n  21,\n  272,\n  5,\n  72,\n  102,\n  38,\n  416,\n  9,\n  8,\n  17,\n  1270,\n  5,\n  73,\n  2102,\n  1412,\n  24,\n  372,\n  7,\n  85,\n  102,\n  161,\n  5,\n  79,\n  761,\n  3,\n  2,\n  89,\n  2444,\n  1,\n  962,\n  1773,\n  3959,\n  6,\n  8,\n  4,\n  29,\n  248,\n  41,\n  321,\n  2,\n  89,\n  265,\n  2,\n  43,\n  68,\n  6,\n  12,\n  62],\n [2,\n  89,\n  4,\n  28,\n  4779,\n  15,\n  18,\n  185,\n  3234,\n  325,\n  46,\n  27,\n  77,\n  2,\n  167,\n  388,\n  591,\n  28,\n  3,\n  13,\n  12100,\n  20,\n  14,\n  9,\n  53,\n  31,\n  643,\n  2,\n  59,\n  214,\n  1,\n  584,\n  1203,\n  591,\n  28,\n  15,\n  2,\n  101,\n  26,\n  69,\n  6,\n  8,\n  427,\n  293,\n  26,\n  2,\n  216,\n  2,\n  53,\n  159,\n  9,\n  4,\n  91,\n  233,\n  13,\n  605,\n  3,\n  2,\n  76,\n  1104,\n  531,\n  16,\n  1,\n  33,\n  2,\n  70,\n  136,\n  6,\n  4110,\n  208,\n  830,\n  15,\n  6,\n  8,\n  39,\n  2284,\n  2,\n  126,\n  13,\n  106,\n  3866,\n  154,\n  38,\n  13,\n  253,\n  319,\n  150,\n  11,\n  67,\n  511,\n  14,\n  844,\n  4,\n  78,\n  215,\n  15,\n  2,\n  1099,\n  2,\n  53,\n  860,\n  575,\n  5,\n  90,\n  1,\n  75,\n  84,\n  22,\n  2,\n  443,\n  12101,\n  41,\n  7,\n  1,\n  575,\n  1030,\n  23,\n  21,\n  3698,\n  67,\n  511,\n  1557,\n  11,\n  1,\n  2507,\n  676,\n  2,\n  53,\n  955,\n  14,\n  19,\n  860,\n  79,\n  253,\n  319,\n  310,\n  22,\n  19,\n  344,\n  31,\n  406,\n  5,\n  90,\n  6,\n  424,\n  26,\n  19,\n  70,\n  18,\n  5,\n  92,\n  1,\n  4485,\n  511,\n  3866,\n  12102,\n  256,\n  506,\n  575,\n  84,\n  3560,\n  12103,\n  12104,\n  241,\n  17,\n  5741,\n  12,\n  224,\n  38,\n  4,\n  1061,\n  1758,\n  28,\n  2537,\n  19,\n  43,\n  68,\n  4,\n  311,\n  7,\n  330,\n  445,\n  11,\n  3960,\n  56,\n  2609,\n  2895,\n  3,\n  124,\n  241,\n  1818,\n  25,\n  4,\n  37,\n  400,\n  330,\n  2944,\n  2507,\n  8938,\n  5052,\n  26,\n  3960,\n  8938,\n  12105,\n  256,\n  506,\n  1,\n  156,\n  293,\n  38,\n  41],\n [2,\n  70,\n  136,\n  27,\n  28,\n  246,\n  21,\n  22,\n  29,\n  22,\n  208,\n  488,\n  208,\n  830,\n  28,\n  15,\n  23,\n  33,\n  222,\n  87,\n  55,\n  591,\n  28,\n  38,\n  223,\n  45,\n  18,\n  4,\n  105,\n  2969,\n  16,\n  120,\n  105,\n  3760,\n  9,\n  830,\n  12,\n  120,\n  105,\n  34,\n  25,\n  4,\n  64,\n  118,\n  356,\n  64,\n  146,\n  222,\n  87,\n  55,\n  100,\n  591,\n  28,\n  2,\n  271,\n  132,\n  6,\n  5,\n  100,\n  28,\n  1352,\n  50,\n  19,\n  18,\n  5200,\n  5,\n  39,\n  120,\n  105,\n  15,\n  70,\n  18,\n  5200,\n  5,\n  4,\n  28,\n  647,\n  1079,\n  1152,\n  3,\n  930,\n  246,\n  1851,\n  19,\n  5,\n  274,\n  35,\n  786,\n  64,\n  25,\n  118,\n  16,\n  19,\n  12,\n  79,\n  2030,\n  32,\n  2374,\n  5,\n  79,\n  1597,\n  343,\n  12106],\n [2,\n  218,\n  184,\n  246,\n  3,\n  364,\n  246,\n  12,\n  13,\n  339,\n  38,\n  41,\n  408,\n  10,\n  167,\n  18,\n  5,\n  101,\n  207,\n  28,\n  75,\n  131,\n  5,\n  86,\n  684,\n  28],\n [2,\n  681,\n  12,\n  1,\n  8939,\n  164,\n  4,\n  1049,\n  26,\n  356,\n  4,\n  71,\n  7,\n  28,\n  20,\n  59,\n  168,\n  16,\n  9,\n  417,\n  50,\n  2,\n  232,\n  5,\n  921,\n  66,\n  1630,\n  5,\n  4808,\n  32,\n  5,\n  1424,\n  66,\n  103,\n  110,\n  852,\n  7,\n  1730,\n  197,\n  34,\n  25,\n  356,\n  64,\n  3,\n  146,\n  767,\n  194,\n  17,\n  584,\n  15,\n  29,\n  194,\n  16,\n  60,\n  102,\n  3,\n  371],\n [13,\n  2995,\n  730,\n  16,\n  9,\n  389,\n  8,\n  5,\n  766,\n  14,\n  9,\n  432,\n  8,\n  193,\n  293,\n  55,\n  1,\n  57,\n  226,\n  1108,\n  96,\n  12107,\n  19,\n  68,\n  47,\n  28,\n  11,\n  193,\n  359,\n  10,\n  10,\n  2,\n  582,\n  443,\n  351,\n  28,\n  107,\n  103,\n  4,\n  12108,\n  7,\n  135,\n  201,\n  141,\n  2,\n  190,\n  157,\n  163,\n  135,\n  125,\n  4,\n  172,\n  2,\n  53,\n  72,\n  2,\n  411,\n  5,\n  1019,\n  1,\n  3537,\n  7,\n  4,\n  4486,\n  2,\n  70,\n  1292,\n  25,\n  591,\n  28,\n  2,\n  20,\n  1919,\n  5,\n  90,\n  27,\n  4809,\n  246,\n  10,\n  10,\n  23,\n  487,\n  4,\n  39,\n  147,\n  291,\n  71,\n  7,\n  28,\n  94,\n  17,\n  100,\n  358,\n  7,\n  28,\n  3273,\n  26,\n  2,\n  70,\n  157,\n  85,\n  651,\n  1841,\n  344,\n  31,\n  122,\n  41,\n  2,\n  157,\n  8,\n  14,\n  36,\n  2,\n  475,\n  1,\n  118,\n  7411,\n  11,\n  4,\n  149,\n  47,\n  55,\n  4,\n  1303,\n  6,\n  204,\n  146,\n  29,\n  549,\n  5,\n  13,\n  39,\n  69,\n  87,\n  309,\n  99,\n  74,\n  1693,\n  14,\n  251,\n  7,\n  27,\n  246,\n  51,\n  1957,\n  38,\n  416,\n  145,\n  29,\n  125,\n  7,\n  28,\n  10,\n  10,\n  39,\n  797,\n  39,\n  168,\n  39,\n  237,\n  2,\n  4487,\n  5,\n  274,\n  60,\n  7,\n  27,\n  16,\n  52,\n  50,\n  2,\n  1571,\n  22,\n  73,\n  439,\n  5,\n  1,\n  12,\n  1452,\n  28,\n  3129,\n  32,\n  12109,\n  2871,\n  3011,\n  10,\n  10,\n  7097],\n [45,\n  177,\n  18,\n  100,\n  358,\n  7,\n  28,\n  647,\n  38,\n  223,\n  26,\n  1282,\n  3552,\n  5,\n  82,\n  38,\n  1,\n  12,\n  437,\n  28,\n  699,\n  32,\n  4453,\n  1307,\n  1,\n  6442,\n  12,\n  9,\n  4210,\n  56,\n  35,\n  1174,\n  5,\n  650,\n  212,\n  215,\n  1030,\n  26,\n  45,\n  443,\n  4,\n  28,\n  1994,\n  544,\n  7,\n  337,\n  82,\n  27,\n  28,\n  246,\n  3,\n  2162,\n  1144,\n  3,\n  214,\n  208,\n  120,\n  237,\n  28,\n  171,\n  172,\n  164,\n  1110,\n  1,\n  28,\n  699,\n  1030,\n  549,\n  2103],\n [27,\n  21,\n  37,\n  11,\n  38,\n  223,\n  34,\n  576,\n  1,\n  591,\n  118,\n  12,\n  11,\n  4,\n  1303,\n  112,\n  86,\n  79,\n  28,\n  9,\n  8,\n  1,\n  75,\n  291,\n  28,\n  44,\n  168,\n  5,\n  86,\n  164,\n  4,\n  838],\n [467,\n  168,\n  3,\n  205,\n  152,\n  173,\n  4,\n  37,\n  71,\n  7,\n  28,\n  3,\n  39,\n  168,\n  5,\n  86,\n  29,\n  245,\n  51,\n  734,\n  5,\n  139,\n  46,\n  228,\n  10,\n  7412],\n [2,\n  425,\n  9,\n  64,\n  4,\n  91,\n  5,\n  169,\n  334,\n  5,\n  13,\n  64,\n  2368,\n  3,\n  94,\n  451,\n  2,\n  144,\n  6,\n  48,\n  4,\n  922,\n  123,\n  3,\n  264,\n  3909,\n  33,\n  3,\n  4,\n  279,\n  502,\n  6,\n  48,\n  4,\n  147,\n  6262,\n  666,\n  9,\n  64,\n  322,\n  48,\n  47,\n  7,\n  4,\n  33,\n  2705,\n  55,\n  100,\n  7,\n  1,\n  279,\n  2004,\n  235,\n  3761,\n  64,\n  99,\n  49,\n  3,\n  2,\n  409,\n  924,\n  5,\n  4359,\n  100,\n  7,\n  1,\n  12110,\n  441,\n  1119,\n  7,\n  5742,\n  14,\n  99,\n  459,\n  67],\n [2,\n  80,\n  9,\n  166,\n  315,\n  791,\n  556,\n  64,\n  26,\n  2,\n  2633,\n  5,\n  389,\n  1,\n  42,\n  133,\n  5536,\n  12,\n  13,\n  2280,\n  6,\n  8,\n  8880,\n  55,\n  5742,\n  64,\n  3,\n  193,\n  12111,\n  1,\n  666,\n  8,\n  14,\n  7,\n  5743,\n  105,\n  3,\n  6,\n  48,\n  1,\n  7413,\n  3,\n  8940,\n  7,\n  6,\n  22,\n  93,\n  93,\n  296,\n  171,\n  2896],\n [2,\n  1577,\n  80,\n  57,\n  3761,\n  206,\n  3,\n  20,\n  1126,\n  1084,\n  16,\n  1,\n  182,\n  15,\n  17,\n  1,\n  84,\n  2,\n  415,\n  5,\n  159,\n  814,\n  3761,\n  235,\n  3,\n  5742,\n  4,\n  91,\n  77,\n  1,\n  84,\n  844,\n  5,\n  31,\n  39,\n  4392,\n  1,\n  182,\n  7,\n  814,\n  12112,\n  206,\n  6443,\n  14,\n  7,\n  41,\n  391,\n  2,\n  18,\n  80,\n  1664,\n  208,\n  48,\n  4,\n  1643,\n  335,\n  3,\n  146,\n  37,\n  233,\n  1,\n  182,\n  3,\n  84,\n  21,\n  87,\n  55,\n  391,\n  14,\n  2,\n  18,\n  283,\n  11,\n  1,\n  192,\n  1251,\n  2,\n  271,\n  132,\n  814,\n  3761,\n  3,\n  51,\n  734,\n  5,\n  245],\n [9,\n  8,\n  1,\n  39,\n  75,\n  1985,\n  19,\n  43,\n  82,\n  22,\n  222,\n  22,\n  2,\n  89,\n  1454,\n  7,\n  606,\n  435,\n  5,\n  263,\n  32,\n  158,\n  244,\n  146,\n  15,\n  41,\n  12,\n  41,\n  2,\n  136,\n  490,\n  51,\n  25,\n  6,\n  2,\n  159,\n  6,\n  802,\n  363],\n [9,\n  8,\n  4,\n  37,\n  40,\n  11,\n  212,\n  224,\n  11,\n  73,\n  1443,\n  3,\n  240,\n  124,\n  40,\n  3,\n  8,\n  74,\n  941,\n  579,\n  55,\n  100,\n  57,\n  1985,\n  32,\n  478,\n  313,\n  58,\n  83,\n  6,\n  199,\n  3512,\n  7,\n  33,\n  378,\n  2,\n  72,\n  6,\n  22,\n  4,\n  478,\n  313,\n  916,\n  3,\n  18,\n  115,\n  6,\n  5,\n  18,\n  1371,\n  33,\n  3,\n  6,\n  664,\n  3,\n  4706,\n  34,\n  25,\n  100,\n  29,\n  1985,\n  288,\n  36,\n  19,\n  21,\n  1240,\n  32,\n  240,\n  2631,\n  32,\n  97,\n  34,\n  1687,\n  19,\n  227,\n  1410,\n  9,\n  40,\n  8,\n  4,\n  131,\n  5,\n  18,\n  79,\n  2342,\n  3,\n  1985,\n  6,\n  65],\n [13,\n  12113,\n  1712,\n  3274,\n  425,\n  337,\n  9,\n  260,\n  64,\n  5,\n  91,\n  3,\n  10,\n  109,\n  307,\n  59,\n  526,\n  6,\n  2,\n  620,\n  38,\n  1,\n  191,\n  3,\n  20,\n  284,\n  561,\n  10,\n  16,\n  1,\n  209,\n  191,\n  3,\n  56,\n  262],\n [9,\n  120,\n  313,\n  8,\n  35,\n  7,\n  13,\n  745,\n  197,\n  4,\n  187,\n  895,\n  7,\n  237,\n  3,\n  470,\n  19,\n  43,\n  431,\n  1,\n  128,\n  897,\n  50,\n  19,\n  440,\n  1,\n  457,\n  4,\n  111,\n  7,\n  755,\n  2425,\n  3,\n  57,\n  1143,\n  2,\n  220,\n  9,\n  24,\n  452,\n  3,\n  1065,\n  5,\n  148,\n  261,\n  35,\n  457,\n  4,\n  546,\n  2,\n  271,\n  132,\n  9,\n  5,\n  490,\n  137,\n  492,\n  120,\n  313],\n [2,\n  20,\n  167,\n  69,\n  7,\n  4,\n  120,\n  313,\n  444,\n  418,\n  2,\n  229,\n  370,\n  505,\n  120,\n  313,\n  2,\n  20,\n  8941,\n  5,\n  1,\n  7414,\n  35,\n  343,\n  3,\n  1,\n  12114,\n  2591,\n  20,\n  680,\n  73,\n  12115,\n  6,\n  2343,\n  1349,\n  1,\n  1133,\n  2932,\n  3951,\n  76,\n  3541,\n  1,\n  313,\n  3,\n  4211,\n  67,\n  6,\n  26,\n  2,\n  1179,\n  66,\n  4,\n  457,\n  38,\n  1,\n  253,\n  319,\n  44,\n  26,\n  29,\n  2,\n  218,\n  4,\n  457,\n  12,\n  1,\n  1049,\n  3,\n  73,\n  367,\n  457,\n  24,\n  598,\n  11,\n  1617,\n  3,\n  11,\n  973,\n  5,\n  12116,\n  12117,\n  3,\n  8942,\n  265,\n  5,\n  239,\n  2,\n  43,\n  82,\n  6,\n  575,\n  38,\n  62],\n [9,\n  8,\n  13,\n  129,\n  120,\n  313,\n  2,\n  12118,\n  72,\n  6,\n  5,\n  159,\n  276,\n  60,\n  367,\n  42,\n  2,\n  18,\n  336,\n  272,\n  58,\n  5,\n  60,\n  7,\n  13,\n  129,\n  12119,\n  12,\n  1620,\n  3,\n  2223,\n  14,\n  23,\n  21,\n  1794,\n  9,\n  37,\n  40,\n  2,\n  59,\n  214,\n  1123,\n  24,\n  13,\n  13,\n  403,\n  6444],\n [23,\n  18,\n  9,\n  12,\n  4,\n  253,\n  6445,\n  14,\n  2,\n  116,\n  12,\n  1477,\n  2,\n  72,\n  6,\n  24,\n  41,\n  1107,\n  7,\n  258,\n  3,\n  2,\n  54,\n  6,\n  44,\n  120,\n  15,\n  17,\n  164,\n  42,\n  2,\n  70,\n  25,\n  212,\n  1168,\n  14,\n  34,\n  1690,\n  15,\n  18,\n  56,\n  33,\n  9,\n  48,\n  233,\n  1690,\n  3,\n  3,\n  517,\n  42,\n  2,\n  20,\n  531,\n  5,\n  90,\n  6,\n  24,\n  62,\n  34,\n  2941,\n  1307,\n  6,\n  2,\n  53,\n  271,\n  132,\n  6,\n  5,\n  490,\n  137,\n  492,\n  4,\n  29,\n  120,\n  313],\n [2,\n  20,\n  8943,\n  321,\n  24,\n  62,\n  224,\n  11,\n  1617,\n  3,\n  20,\n  39,\n  561,\n  5,\n  239,\n  13,\n  129,\n  313,\n  24,\n  228,\n  2,\n  51,\n  34,\n  139,\n  3,\n  18,\n  636,\n  5,\n  13,\n  469,\n  2425,\n  8,\n  13,\n  129,\n  2,\n  54,\n  1,\n  679,\n  3,\n  1,\n  1250,\n  5128,\n  2,\n  74,\n  54,\n  1,\n  781,\n  19,\n  51,\n  17,\n  148,\n  621,\n  433,\n  9,\n  66],\n [9,\n  8,\n  13,\n  129,\n  120,\n  313,\n  2,\n  82,\n  6,\n  889,\n  3,\n  54,\n  1,\n  42,\n  14,\n  23,\n  41,\n  18,\n  2043,\n  1,\n  57,\n  128,\n  51,\n  1518,\n  66,\n  24,\n  62,\n  11,\n  243,\n  5,\n  214,\n  13,\n  745,\n  21,\n  1,\n  429,\n  3,\n  781,\n  247,\n  384,\n  26,\n  222,\n  514,\n  19,\n  11,\n  356,\n  4,\n  548,\n  120,\n  313],\n [26,\n  222,\n  2,\n  18,\n  49,\n  1,\n  2425,\n  3,\n  1,\n  429,\n  1168,\n  3,\n  23,\n  76,\n  472,\n  13,\n  7225,\n  3,\n  2,\n  72,\n  30,\n  951,\n  809,\n  3,\n  2,\n  34,\n  1179,\n  66,\n  130,\n  47,\n  6,\n  603,\n  59,\n  93,\n  24,\n  41,\n  3247,\n  7,\n  1395,\n  5,\n  169,\n  1,\n  367,\n  991,\n  10,\n  10,\n  1,\n  313,\n  693,\n  1214,\n  4,\n  186,\n  528,\n  55,\n  6,\n  1910,\n  6,\n  8,\n  826,\n  3,\n  4,\n  457,\n  51,\n  303,\n  337,\n  4,\n  460,\n  7,\n  613,\n  7,\n  934,\n  72,\n  45,\n  54,\n  5,\n  72,\n  6,\n  11,\n  403,\n  24,\n  982,\n  32,\n  12,\n  6444,\n  3,\n  11,\n  2222,\n  32,\n  1508,\n  11,\n  269,\n  756],\n [426,\n  54,\n  1,\n  12120,\n  313,\n  72,\n  6,\n  24,\n  982,\n  2149,\n  156,\n  276,\n  11,\n  4,\n  29,\n  991,\n  18,\n  4775,\n  1,\n  12121,\n  5744,\n  7,\n  12122,\n  12123,\n  40,\n  18,\n  404,\n  15,\n  1,\n  12124,\n  12125,\n  11,\n  1,\n  2224,\n  3,\n  1,\n  40,\n  68,\n  58,\n  83,\n  3,\n  91,\n  6],\n [370,\n  505,\n  120,\n  313,\n  8,\n  279,\n  13,\n  366,\n  211,\n  9,\n  6446,\n  313,\n  197,\n  39,\n  39,\n  548,\n  16,\n  4,\n  147,\n  991,\n  5,\n  6,\n  2,\n  12,\n  421,\n  54,\n  1,\n  429,\n  313,\n  1,\n  33,\n  8,\n  26,\n  612,\n  16,\n  4,\n  149,\n  7,\n  3899,\n  2511,\n  6,\n  45,\n  122,\n  6,\n  11,\n  452,\n  3,\n  19,\n  43,\n  72,\n  6,\n  16,\n  100,\n  564,\n  10,\n  10,\n  2,\n  25,\n  1,\n  421,\n  14,\n  83,\n  21,\n  26,\n  135,\n  170,\n  1511,\n  7,\n  8749,\n  45,\n  54,\n  1,\n  429,\n  6446,\n  358,\n  7,\n  25,\n  4,\n  263,\n  3930,\n  308,\n  514,\n  19,\n  11,\n  79,\n  219,\n  223,\n  1726,\n  218,\n  66,\n  1,\n  219,\n  223],\n [1744,\n  85,\n  43,\n  2,\n  162,\n  9,\n  1219,\n  8,\n  1,\n  4181,\n  2,\n  18,\n  41,\n  1,\n  170,\n  1107,\n  2,\n  18,\n  6,\n  16,\n  264,\n  171,\n  564,\n  1,\n  2591,\n  8,\n  4,\n  1195,\n  7415,\n  1032,\n  3461,\n  225,\n  124,\n  654,\n  5,\n  52,\n  12,\n  13,\n  7416,\n  2,\n  8714,\n  1,\n  106,\n  457,\n  58,\n  7,\n  4,\n  469,\n  1116,\n  103,\n  2,\n  229,\n  3,\n  95,\n  1071,\n  141,\n  988,\n  1730,\n  24,\n  9,\n  120,\n  313],\n [9,\n  313,\n  8,\n  26,\n  29,\n  16,\n  34,\n  67,\n  276,\n  2,\n  25,\n  709,\n  6,\n  5,\n  1771,\n  61,\n  32,\n  276,\n  16,\n  777,\n  32,\n  1089,\n  6,\n  48,\n  4,\n  29,\n  1690,\n  16,\n  4,\n  189,\n  42,\n  1941,\n  961,\n  5,\n  239,\n  60,\n  7,\n  1,\n  57,\n  128,\n  25,\n  1,\n  781,\n  2016,\n  24,\n  228,\n  690,\n  82,\n  6,\n  19,\n  2021,\n  1926,\n  6],\n [17,\n  120,\n  38,\n  41,\n  25,\n  1,\n  57,\n  298,\n  741,\n  948,\n  2,\n  160,\n  12126,\n  96,\n  2223,\n  12127,\n  12,\n  1,\n  570,\n  3,\n  1,\n  330,\n  348,\n  226,\n  60,\n  243,\n  344,\n  25,\n  1,\n  42,\n  1281,\n  1636,\n  3,\n  6,\n  48,\n  60,\n  658,\n  313,\n  12,\n  1,\n  111,\n  1531,\n  5,\n  1,\n  545,\n  628,\n  15,\n  36,\n  365,\n  224,\n  11,\n  120,\n  9,\n  4810,\n  6],\n [2,\n  18,\n  5,\n  1090,\n  2,\n  20,\n  4,\n  5745,\n  11,\n  1,\n  438,\n  1251,\n  330,\n  348,\n  50,\n  1775,\n  11,\n  120,\n  1168,\n  15,\n  104,\n  2223,\n  1,\n  226,\n  7,\n  1,\n  457,\n  6,\n  1363,\n  7,\n  6447,\n  313,\n  457,\n  1971,\n  530,\n  457,\n  6,\n  161,\n  18,\n  4,\n  797,\n  4488,\n  372,\n  15,\n  536,\n  17,\n  39,\n  120,\n  32,\n  237,\n  3,\n  113,\n  816,\n  46,\n  6448,\n  5201,\n  4489,\n  36,\n  2,\n  49,\n  1006,\n  1,\n  191,\n  625,\n  2,\n  53,\n  17,\n  18,\n  126,\n  6,\n  10,\n  8691,\n  10,\n  105,\n  10,\n  495,\n  10,\n  499,\n  102,\n  10,\n  1010,\n  142,\n  10,\n  658,\n  313,\n  10,\n  2773,\n  10,\n  2425,\n  10,\n  755,\n  10,\n  756,\n  280,\n  10,\n  227,\n  10,\n  1279,\n  12128,\n  10,\n  4179,\n  594],\n ...]"
     },
     "execution_count": 14,
     "metadata": {},
     "output_type": "execute_result"
    }
   ],
   "source": [
    "text_x = tokenizer.texts_to_sequences(text_x)\n",
    "text_x"
   ]
  },
  {
   "cell_type": "code",
   "execution_count": 15,
   "metadata": {},
   "outputs": [
    {
     "data": {
      "text/plain": "array([[0., 1., 1., ..., 0., 0., 0.],\n       [0., 1., 0., ..., 0., 0., 0.],\n       [0., 1., 1., ..., 0., 0., 0.],\n       ...,\n       [0., 1., 1., ..., 0., 0., 0.],\n       [0., 1., 1., ..., 0., 0., 0.],\n       [0., 1., 1., ..., 1., 1., 1.]])"
     },
     "execution_count": 15,
     "metadata": {},
     "output_type": "execute_result"
    }
   ],
   "source": [
    "text_x = tokenizer.sequences_to_matrix(text_x)\n",
    "text_x"
   ]
  },
  {
   "cell_type": "code",
   "execution_count": 16,
   "metadata": {},
   "outputs": [
    {
     "name": "stdout",
     "output_type": "stream",
     "text": "<class 'numpy.ndarray'>\n"
    }
   ],
   "source": [
    "print(type(text_x))"
   ]
  },
  {
   "cell_type": "code",
   "execution_count": 17,
   "metadata": {},
   "outputs": [],
   "source": [
    "model = Sequential()\n",
    "model.add(Dense(37, activation = 'relu'))\n",
    "model.add(Dropout(0.2))\n",
    "# model.add(Dense(419, activation = 'linear'))\n",
    "# model.add(Dropout(0.3))\n",
    "# model.add(Dense(281, activation = 'elu'))\n",
    "# model.add(Dropout(0.4))\n",
    "# model.add(Dense(167, activation = 'tanh'))\n",
    "# model.add(Dropout(0.5))\n",
    "# model.add(Dense(61, activation = 'softsign'))\n",
    "# model.add(Dense(3, activation = 'softmax'))"
   ]
  },
  {
   "cell_type": "code",
   "execution_count": 18,
   "metadata": {},
   "outputs": [],
   "source": [
    "model.compile(loss='categorical_crossentropy', optimizer='adam', metrics=['accuracy'])"
   ]
  },
  {
   "cell_type": "code",
   "execution_count": 19,
   "metadata": {},
   "outputs": [],
   "source": [
    "text_y = keras.utils.to_categorical(text_y, 37)"
   ]
  },
  {
   "cell_type": "code",
   "execution_count": 20,
   "metadata": {},
   "outputs": [
    {
     "name": "stdout",
     "output_type": "stream",
     "text": "Train on 7999 samples, validate on 2000 samples\nEpoch 1/7\n7999/7999 [==============================] - 7s 825us/sample - loss: nan - accuracy: 0.0071 - val_loss: nan - val_accuracy: 0.0000e+00\nEpoch 2/7\n7999/7999 [==============================] - 6s 733us/sample - loss: nan - accuracy: 0.0000e+00 - val_loss: nan - val_accuracy: 0.0000e+00\nEpoch 3/7\n7999/7999 [==============================] - 7s 814us/sample - loss: nan - accuracy: 0.0000e+00 - val_loss: nan - val_accuracy: 0.0000e+00\nEpoch 4/7\n7999/7999 [==============================] - 6s 735us/sample - loss: nan - accuracy: 0.0000e+00 - val_loss: nan - val_accuracy: 0.0000e+00\nEpoch 5/7\n7999/7999 [==============================] - 6s 711us/sample - loss: nan - accuracy: 0.0000e+00 - val_loss: nan - val_accuracy: 0.0000e+00\nEpoch 6/7\n7999/7999 [==============================] - 6s 751us/sample - loss: nan - accuracy: 0.0000e+00 - val_loss: nan - val_accuracy: 0.0000e+00\nEpoch 7/7\n7999/7999 [==============================] - 6s 741us/sample - loss: nan - accuracy: 0.0000e+00 - val_loss: nan - val_accuracy: 0.0000e+00\n"
    },
    {
     "data": {
      "text/plain": "<tensorflow.python.keras.callbacks.History at 0x7fc74c22d5c0>"
     },
     "execution_count": 20,
     "metadata": {},
     "output_type": "execute_result"
    }
   ],
   "source": [
    "model.fit(text_x, text_y,\n",
    "batch_size=37,\n",
    "epochs=7,\n",
    "verbose=1,\n",
    "validation_split=0.2,\n",
    "shuffle=True)"
   ]
  },
  {
   "cell_type": "code",
   "execution_count": 21,
   "metadata": {},
   "outputs": [],
   "source": [
    "food_model = model.to_json()\n",
    "with open('food_model.json', 'w') as json_file:\n",
    "    json_file.write(food_model)\n",
    "model.save_weights('food_model.json.h5')"
   ]
  },
  {
   "cell_type": "code",
   "execution_count": null,
   "metadata": {},
   "outputs": [],
   "source": []
  }
 ]
}